{
 "cells": [
  {
   "cell_type": "code",
   "execution_count": 1,
   "id": "2d7851a6",
   "metadata": {},
   "outputs": [
    {
     "name": "stderr",
     "output_type": "stream",
     "text": [
      "2025-07-07 16:05:38,648 - INFO - Note: NumExpr detected 16 cores but \"NUMEXPR_MAX_THREADS\" not set, so enforcing safe limit of 8.\n",
      "2025-07-07 16:05:38,649 - INFO - NumExpr defaulting to 8 threads.\n"
     ]
    }
   ],
   "source": [
    "from SFC_FreeEnergyCorrection.data_loader import DataLoader\n",
    "from SFC_FreeEnergyCorrection.apply_sfc import run_and_process_results\n",
    "\n",
    "\n",
    "from pathlib import Path\n",
    "\n",
    "edge_data = Path(\"example/n20_c0.10_u0.50_edges.csv\").read_text().splitlines()\n",
    "edge_data = [line.split() for line in edge_data]\n",
    "\n",
    "from_lig = [edge[0] for edge in edge_data]\n",
    "to_lig = [edge[1] for edge in edge_data]\n",
    "b_ddG = [float(edge[2]) for edge in edge_data]\n",
    "# err_b_ddG = [float(edge[3]) for edge in edge_data]"
   ]
  },
  {
   "cell_type": "code",
   "execution_count": 2,
   "id": "5b57a09b",
   "metadata": {},
   "outputs": [
    {
     "name": "stderr",
     "output_type": "stream",
     "text": [
      "2025-07-07 16:05:38,794 - INFO - Rank check: rank(A) = 19, N = 20\n",
      "2025-07-07 16:05:38,795 - INFO - Matrix A has rank N-1, indicating a connected graph (expected for relative energies).\n",
      "2025-07-07 16:05:38,796 - INFO - cond(A_aug) [SFC check] = 1.70e+01\n",
      "2025-07-07 16:05:38,797 - INFO - Running Standard Optimization mode...\n",
      "2025-07-07 16:05:38,817 - INFO - Energy calculations completed (engine mode: optimize, weight mode: std_info_weighted).\n"
     ]
    }
   ],
   "source": [
    "dl = DataLoader(from_lig=from_lig, to_lig=to_lig, b_ddG=b_ddG, ref_mol=\"1\")\n",
    "results_df = run_and_process_results(dl, ref_energy=0.0, include_pairs=True)"
   ]
  },
  {
   "cell_type": "code",
   "execution_count": 3,
   "id": "b8988334",
   "metadata": {},
   "outputs": [
    {
     "name": "stdout",
     "output_type": "stream",
     "text": [
      "dict_keys(['node_results', 'pair_results', 'execution_time', 'weights'])\n"
     ]
    }
   ],
   "source": [
    "print(results_df[\"sfc\"].keys())"
   ]
  },
  {
   "cell_type": "markdown",
   "id": "824b8482",
   "metadata": {},
   "source": [
    "# [Node](example/n20_c0.10_u0.50_edges_sfc_node.txt) results"
   ]
  },
  {
   "cell_type": "code",
   "execution_count": 4,
   "id": "76f0b9ba",
   "metadata": {},
   "outputs": [
    {
     "data": {
      "text/html": [
       "<div>\n",
       "<style scoped>\n",
       "    .dataframe tbody tr th:only-of-type {\n",
       "        vertical-align: middle;\n",
       "    }\n",
       "\n",
       "    .dataframe tbody tr th {\n",
       "        vertical-align: top;\n",
       "    }\n",
       "\n",
       "    .dataframe thead th {\n",
       "        text-align: right;\n",
       "    }\n",
       "</style>\n",
       "<table border=\"1\" class=\"dataframe\">\n",
       "  <thead>\n",
       "    <tr style=\"text-align: right;\">\n",
       "      <th></th>\n",
       "      <th>Ligand</th>\n",
       "      <th>Energy</th>\n",
       "      <th>Path_Dep_Error</th>\n",
       "      <th>Path_Indep_Error</th>\n",
       "    </tr>\n",
       "  </thead>\n",
       "  <tbody>\n",
       "    <tr>\n",
       "      <th>0</th>\n",
       "      <td>1</td>\n",
       "      <td>0.000000</td>\n",
       "      <td>0.584642</td>\n",
       "      <td>0.584638</td>\n",
       "    </tr>\n",
       "    <tr>\n",
       "      <th>1</th>\n",
       "      <td>10</td>\n",
       "      <td>2.604698</td>\n",
       "      <td>0.091576</td>\n",
       "      <td>0.058225</td>\n",
       "    </tr>\n",
       "    <tr>\n",
       "      <th>2</th>\n",
       "      <td>11</td>\n",
       "      <td>-2.748169</td>\n",
       "      <td>0.345545</td>\n",
       "      <td>0.253152</td>\n",
       "    </tr>\n",
       "    <tr>\n",
       "      <th>3</th>\n",
       "      <td>12</td>\n",
       "      <td>4.616483</td>\n",
       "      <td>0.345545</td>\n",
       "      <td>0.266320</td>\n",
       "    </tr>\n",
       "    <tr>\n",
       "      <th>4</th>\n",
       "      <td>13</td>\n",
       "      <td>3.747536</td>\n",
       "      <td>0.799577</td>\n",
       "      <td>0.490030</td>\n",
       "    </tr>\n",
       "  </tbody>\n",
       "</table>\n",
       "</div>"
      ],
      "text/plain": [
       "  Ligand    Energy  Path_Dep_Error  Path_Indep_Error\n",
       "0      1  0.000000        0.584642          0.584638\n",
       "1     10  2.604698        0.091576          0.058225\n",
       "2     11 -2.748169        0.345545          0.253152\n",
       "3     12  4.616483        0.345545          0.266320\n",
       "4     13  3.747536        0.799577          0.490030"
      ]
     },
     "execution_count": 4,
     "metadata": {},
     "output_type": "execute_result"
    }
   ],
   "source": [
    "results_df[\"sfc\"][\"node_results\"].head(5)"
   ]
  },
  {
   "cell_type": "markdown",
   "id": "4218f5f5",
   "metadata": {},
   "source": [
    "# [Pairwise](example/n20_c0.10_u0.50_edges_sfc_pair.txt) results"
   ]
  },
  {
   "cell_type": "code",
   "execution_count": 5,
   "id": "471ea5bb",
   "metadata": {},
   "outputs": [
    {
     "data": {
      "text/html": [
       "<div>\n",
       "<style scoped>\n",
       "    .dataframe tbody tr th:only-of-type {\n",
       "        vertical-align: middle;\n",
       "    }\n",
       "\n",
       "    .dataframe tbody tr th {\n",
       "        vertical-align: top;\n",
       "    }\n",
       "\n",
       "    .dataframe thead th {\n",
       "        text-align: right;\n",
       "    }\n",
       "</style>\n",
       "<table border=\"1\" class=\"dataframe\">\n",
       "  <thead>\n",
       "    <tr style=\"text-align: right;\">\n",
       "      <th></th>\n",
       "      <th>Pair</th>\n",
       "      <th>Original_ddG</th>\n",
       "      <th>Calculated_ddG</th>\n",
       "      <th>Error</th>\n",
       "    </tr>\n",
       "  </thead>\n",
       "  <tbody>\n",
       "    <tr>\n",
       "      <th>0</th>\n",
       "      <td>1-2</td>\n",
       "      <td>4.102978</td>\n",
       "      <td>4.687612</td>\n",
       "      <td>0.584634</td>\n",
       "    </tr>\n",
       "    <tr>\n",
       "      <th>1</th>\n",
       "      <td>2-3</td>\n",
       "      <td>-1.592639</td>\n",
       "      <td>-1.570480</td>\n",
       "      <td>0.022159</td>\n",
       "    </tr>\n",
       "    <tr>\n",
       "      <th>2</th>\n",
       "      <td>3-4</td>\n",
       "      <td>-1.520696</td>\n",
       "      <td>-1.255644</td>\n",
       "      <td>0.265052</td>\n",
       "    </tr>\n",
       "    <tr>\n",
       "      <th>3</th>\n",
       "      <td>4-5</td>\n",
       "      <td>-4.247271</td>\n",
       "      <td>-4.123719</td>\n",
       "      <td>0.123552</td>\n",
       "    </tr>\n",
       "    <tr>\n",
       "      <th>4</th>\n",
       "      <td>5-6</td>\n",
       "      <td>0.732631</td>\n",
       "      <td>0.544153</td>\n",
       "      <td>0.188478</td>\n",
       "    </tr>\n",
       "  </tbody>\n",
       "</table>\n",
       "</div>"
      ],
      "text/plain": [
       "  Pair  Original_ddG  Calculated_ddG     Error\n",
       "0  1-2      4.102978        4.687612  0.584634\n",
       "1  2-3     -1.592639       -1.570480  0.022159\n",
       "2  3-4     -1.520696       -1.255644  0.265052\n",
       "3  4-5     -4.247271       -4.123719  0.123552\n",
       "4  5-6      0.732631        0.544153  0.188478"
      ]
     },
     "execution_count": 5,
     "metadata": {},
     "output_type": "execute_result"
    }
   ],
   "source": [
    "results_df[\"sfc\"][\"pair_results\"].head(5)"
   ]
  },
  {
   "cell_type": "markdown",
   "id": "f7b859d1",
   "metadata": {},
   "source": [
    "# [Execution time](example/n20_c0.10_u0.50_edges_sfc_time.txt)"
   ]
  },
  {
   "cell_type": "code",
   "execution_count": 6,
   "id": "f6423bdd",
   "metadata": {},
   "outputs": [
    {
     "data": {
      "text/plain": [
       "0.01959538459777832"
      ]
     },
     "execution_count": 6,
     "metadata": {},
     "output_type": "execute_result"
    }
   ],
   "source": [
    "results_df[\"sfc\"][\"execution_time\"]"
   ]
  },
  {
   "cell_type": "code",
   "execution_count": null,
   "id": "ede69740",
   "metadata": {},
   "outputs": [],
   "source": []
  }
 ],
 "metadata": {
  "kernelspec": {
   "display_name": "Python 3",
   "language": "python",
   "name": "python3"
  },
  "language_info": {
   "codemirror_mode": {
    "name": "ipython",
    "version": 3
   },
   "file_extension": ".py",
   "mimetype": "text/x-python",
   "name": "python",
   "nbconvert_exporter": "python",
   "pygments_lexer": "ipython3",
   "version": "3.10.12"
  }
 },
 "nbformat": 4,
 "nbformat_minor": 5
}
